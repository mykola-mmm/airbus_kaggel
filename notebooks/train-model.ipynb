{
 "cells": [
  {
   "cell_type": "code",
   "execution_count": 1,
   "id": "cd049fea",
   "metadata": {
    "_cell_guid": "b1076dfc-b9ad-4769-8c92-a6c4dae69d19",
    "_uuid": "8f2839f25d086af736a60e9eeb907d3b93b6e0e5",
    "execution": {
     "iopub.execute_input": "2024-07-26T15:30:08.715699Z",
     "iopub.status.busy": "2024-07-26T15:30:08.714959Z",
     "iopub.status.idle": "2024-07-26T15:30:14.868966Z",
     "shell.execute_reply": "2024-07-26T15:30:14.868023Z"
    },
    "papermill": {
     "duration": 6.161494,
     "end_time": "2024-07-26T15:30:14.871494",
     "exception": false,
     "start_time": "2024-07-26T15:30:08.710000",
     "status": "completed"
    },
    "tags": []
   },
   "outputs": [
    {
     "name": "stdout",
     "output_type": "stream",
     "text": [
      "Cloning into 'airbus_kaggel'...\r\n",
      "remote: Enumerating objects: 155, done.\u001b[K\r\n",
      "remote: Total 155 (delta 0), reused 0 (delta 0), pack-reused 155\u001b[K\r\n",
      "Receiving objects: 100% (155/155), 99.97 MiB | 29.27 MiB/s, done.\r\n",
      "Resolving deltas: 100% (69/69), done.\r\n"
     ]
    }
   ],
   "source": [
    "!git clone https://github.com/mykola-mmm/airbus_kaggel.git"
   ]
  },
  {
   "cell_type": "code",
   "execution_count": 2,
   "id": "18d24747",
   "metadata": {
    "execution": {
     "iopub.execute_input": "2024-07-26T15:30:14.880281Z",
     "iopub.status.busy": "2024-07-26T15:30:14.879958Z",
     "iopub.status.idle": "2024-07-26T15:30:14.884446Z",
     "shell.execute_reply": "2024-07-26T15:30:14.883658Z"
    },
    "papermill": {
     "duration": 0.011164,
     "end_time": "2024-07-26T15:30:14.886341",
     "exception": false,
     "start_time": "2024-07-26T15:30:14.875177",
     "status": "completed"
    },
    "tags": []
   },
   "outputs": [],
   "source": [
    "import os\n",
    "os.chdir('./airbus_kaggel')\n"
   ]
  },
  {
   "cell_type": "code",
   "execution_count": 3,
   "id": "a24084bb",
   "metadata": {
    "execution": {
     "iopub.execute_input": "2024-07-26T15:30:14.893907Z",
     "iopub.status.busy": "2024-07-26T15:30:14.893598Z",
     "iopub.status.idle": "2024-07-26T15:30:15.903082Z",
     "shell.execute_reply": "2024-07-26T15:30:15.901991Z"
    },
    "papermill": {
     "duration": 1.015999,
     "end_time": "2024-07-26T15:30:15.905494",
     "exception": false,
     "start_time": "2024-07-26T15:30:14.889495",
     "status": "completed"
    },
    "tags": []
   },
   "outputs": [
    {
     "name": "stdout",
     "output_type": "stream",
     "text": [
      "Python 3.10.13\r\n"
     ]
    }
   ],
   "source": [
    "!python --version"
   ]
  },
  {
   "cell_type": "code",
   "execution_count": 4,
   "id": "b2916aec",
   "metadata": {
    "execution": {
     "iopub.execute_input": "2024-07-26T15:30:15.913799Z",
     "iopub.status.busy": "2024-07-26T15:30:15.913470Z",
     "iopub.status.idle": "2024-07-26T15:30:17.004353Z",
     "shell.execute_reply": "2024-07-26T15:30:17.003213Z"
    },
    "papermill": {
     "duration": 1.097909,
     "end_time": "2024-07-26T15:30:17.006918",
     "exception": false,
     "start_time": "2024-07-26T15:30:15.909009",
     "status": "completed"
    },
    "tags": []
   },
   "outputs": [
    {
     "name": "stdout",
     "output_type": "stream",
     "text": [
      "python: can't open file '/kaggle/working/airbus_kaggel/.train-model.py': [Errno 2] No such file or directory\r\n"
     ]
    }
   ],
   "source": [
    "!python .\\train-model.py --csv_file ./kaggle/input/airbus-kaggle-preprocessed/df.csv --max_number_of_samples 15000 --epochs 100 --batch_size 32 --loss_function dice_bce_loss --patch_size 768"
   ]
  }
 ],
 "metadata": {
  "kaggle": {
   "accelerator": "nvidiaTeslaT4",
   "dataSources": [
    {
     "databundleVersionId": 868324,
     "sourceId": 9988,
     "sourceType": "competition"
    },
    {
     "datasetId": 5450343,
     "sourceId": 9040735,
     "sourceType": "datasetVersion"
    }
   ],
   "dockerImageVersionId": 30746,
   "isGpuEnabled": true,
   "isInternetEnabled": true,
   "language": "python",
   "sourceType": "notebook"
  },
  "kernelspec": {
   "display_name": "Python 3",
   "language": "python",
   "name": "python3"
  },
  "language_info": {
   "codemirror_mode": {
    "name": "ipython",
    "version": 3
   },
   "file_extension": ".py",
   "mimetype": "text/x-python",
   "name": "python",
   "nbconvert_exporter": "python",
   "pygments_lexer": "ipython3",
   "version": "3.10.13"
  },
  "papermill": {
   "default_parameters": {},
   "duration": 11.456629,
   "end_time": "2024-07-26T15:30:17.329329",
   "environment_variables": {},
   "exception": null,
   "input_path": "__notebook__.ipynb",
   "output_path": "__notebook__.ipynb",
   "parameters": {},
   "start_time": "2024-07-26T15:30:05.872700",
   "version": "2.5.0"
  }
 },
 "nbformat": 4,
 "nbformat_minor": 5
}
