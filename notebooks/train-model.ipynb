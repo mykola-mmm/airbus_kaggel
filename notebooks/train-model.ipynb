{
 "cells": [
  {
   "cell_type": "code",
   "execution_count": 1,
   "id": "4470bf71",
   "metadata": {
    "_cell_guid": "b1076dfc-b9ad-4769-8c92-a6c4dae69d19",
    "_uuid": "8f2839f25d086af736a60e9eeb907d3b93b6e0e5",
    "execution": {
     "iopub.execute_input": "2024-07-26T15:53:53.787996Z",
     "iopub.status.busy": "2024-07-26T15:53:53.787238Z",
     "iopub.status.idle": "2024-07-26T15:54:03.130731Z",
     "shell.execute_reply": "2024-07-26T15:54:03.129639Z"
    },
    "papermill": {
     "duration": 9.350556,
     "end_time": "2024-07-26T15:54:03.133041",
     "exception": false,
     "start_time": "2024-07-26T15:53:53.782485",
     "status": "completed"
    },
    "tags": []
   },
   "outputs": [
    {
     "name": "stdout",
     "output_type": "stream",
     "text": [
      "Cloning into 'airbus_kaggel'...\r\n",
      "remote: Enumerating objects: 175, done.\u001b[K\r\n",
      "remote: Counting objects: 100% (20/20), done.\u001b[K\r\n",
      "remote: Compressing objects: 100% (17/17), done.\u001b[K\r\n",
      "remote: Total 175 (delta 8), reused 9 (delta 3), pack-reused 155\u001b[K\r\n",
      "Receiving objects: 100% (175/175), 99.98 MiB | 15.61 MiB/s, done.\r\n",
      "Resolving deltas: 100% (77/77), done.\r\n"
     ]
    }
   ],
   "source": [
    "!git clone https://github.com/mykola-mmm/airbus_kaggel.git"
   ]
  },
  {
   "cell_type": "code",
   "execution_count": 2,
   "id": "fe7ecb0e",
   "metadata": {
    "execution": {
     "iopub.execute_input": "2024-07-26T15:54:03.143325Z",
     "iopub.status.busy": "2024-07-26T15:54:03.142988Z",
     "iopub.status.idle": "2024-07-26T15:54:03.147453Z",
     "shell.execute_reply": "2024-07-26T15:54:03.146591Z"
    },
    "papermill": {
     "duration": 0.011849,
     "end_time": "2024-07-26T15:54:03.149425",
     "exception": false,
     "start_time": "2024-07-26T15:54:03.137576",
     "status": "completed"
    },
    "tags": []
   },
   "outputs": [],
   "source": [
    "import os\n",
    "os.chdir('./airbus_kaggel')\n"
   ]
  },
  {
   "cell_type": "code",
   "execution_count": 3,
   "id": "50b01b15",
   "metadata": {
    "execution": {
     "iopub.execute_input": "2024-07-26T15:54:03.158786Z",
     "iopub.status.busy": "2024-07-26T15:54:03.158494Z",
     "iopub.status.idle": "2024-07-26T15:54:04.615363Z",
     "shell.execute_reply": "2024-07-26T15:54:04.614376Z"
    },
    "papermill": {
     "duration": 1.464206,
     "end_time": "2024-07-26T15:54:04.617703",
     "exception": false,
     "start_time": "2024-07-26T15:54:03.153497",
     "status": "completed"
    },
    "tags": []
   },
   "outputs": [
    {
     "name": "stdout",
     "output_type": "stream",
     "text": [
      "Branch 'v2' set up to track remote branch 'v2' from 'origin'.\r\n",
      "Switched to a new branch 'v2'\r\n"
     ]
    }
   ],
   "source": [
    "!git checkout v2"
   ]
  },
  {
   "cell_type": "code",
   "execution_count": 4,
   "id": "2931777d",
   "metadata": {
    "execution": {
     "iopub.execute_input": "2024-07-26T15:54:04.628139Z",
     "iopub.status.busy": "2024-07-26T15:54:04.627563Z",
     "iopub.status.idle": "2024-07-26T15:54:05.608418Z",
     "shell.execute_reply": "2024-07-26T15:54:05.607362Z"
    },
    "papermill": {
     "duration": 0.988813,
     "end_time": "2024-07-26T15:54:05.610983",
     "exception": false,
     "start_time": "2024-07-26T15:54:04.622170",
     "status": "completed"
    },
    "tags": []
   },
   "outputs": [
    {
     "name": "stdout",
     "output_type": "stream",
     "text": [
      "Python 3.10.13\r\n"
     ]
    }
   ],
   "source": [
    "!python --version"
   ]
  },
  {
   "cell_type": "code",
   "execution_count": 5,
   "id": "ce6e587a",
   "metadata": {
    "execution": {
     "iopub.execute_input": "2024-07-26T15:54:05.621594Z",
     "iopub.status.busy": "2024-07-26T15:54:05.621245Z",
     "iopub.status.idle": "2024-07-26T15:54:21.942315Z",
     "shell.execute_reply": "2024-07-26T15:54:21.941327Z"
    },
    "papermill": {
     "duration": 16.329315,
     "end_time": "2024-07-26T15:54:21.944854",
     "exception": false,
     "start_time": "2024-07-26T15:54:05.615539",
     "status": "completed"
    },
    "tags": []
   },
   "outputs": [
    {
     "name": "stdout",
     "output_type": "stream",
     "text": [
      "2024-07-26 15:54:09.179318: E external/local_xla/xla/stream_executor/cuda/cuda_dnn.cc:9261] Unable to register cuDNN factory: Attempting to register factory for plugin cuDNN when one has already been registered\r\n",
      "2024-07-26 15:54:09.179424: E external/local_xla/xla/stream_executor/cuda/cuda_fft.cc:607] Unable to register cuFFT factory: Attempting to register factory for plugin cuFFT when one has already been registered\r\n",
      "2024-07-26 15:54:09.299257: E external/local_xla/xla/stream_executor/cuda/cuda_blas.cc:1515] Unable to register cuBLAS factory: Attempting to register factory for plugin cuBLAS when one has already been registered\r\n",
      "Traceback (most recent call last):\r\n",
      "  File \"/kaggle/working/airbus_kaggel/./train-model.py\", line 106, in <module>\r\n",
      "    with strategy.scope():\r\n",
      "NameError: name 'strategy' is not defined\r\n"
     ]
    }
   ],
   "source": [
    "!python ./train-model.py --csv_file /kaggle/input/airbus-kaggle-preprocessed/df.csv --dataset_path /kaggle/input/airbus-ship-detection/train_v2 --max_number_of_samples 5000 --epochs 100 --batch_size 64 --loss_function dice_bce_loss --patch_size 256"
   ]
  },
  {
   "cell_type": "code",
   "execution_count": 6,
   "id": "03fdeff3",
   "metadata": {
    "execution": {
     "iopub.execute_input": "2024-07-26T15:54:21.956183Z",
     "iopub.status.busy": "2024-07-26T15:54:21.955834Z",
     "iopub.status.idle": "2024-07-26T15:54:22.946537Z",
     "shell.execute_reply": "2024-07-26T15:54:22.945414Z"
    },
    "papermill": {
     "duration": 0.999154,
     "end_time": "2024-07-26T15:54:22.948899",
     "exception": false,
     "start_time": "2024-07-26T15:54:21.949745",
     "status": "completed"
    },
    "tags": []
   },
   "outputs": [
    {
     "name": "stdout",
     "output_type": "stream",
     "text": [
      "total 49588\r\n",
      "drwxr-xr-x 5 root root     4096 Jul 26 15:54 .\r\n",
      "drwxr-xr-x 3 root root     4096 Jul 26 15:53 ..\r\n",
      "drwxr-xr-x 8 root root     4096 Jul 26 15:54 .git\r\n",
      "-rw-r--r-- 1 root root       43 Jul 26 15:54 .gitignore\r\n",
      "-rw-r--r-- 1 root root     5040 Jul 26 15:54 README.md\r\n",
      "-rw-r--r-- 1 root root 50719787 Jul 26 15:54 df.csv\r\n",
      "drwxr-xr-x 2 root root     4096 Jul 26 15:54 notebooks\r\n",
      "-rw-r--r-- 1 root root      128 Jul 26 15:54 requirements.txt\r\n",
      "-rw-r--r-- 1 root root     2878 Jul 26 15:54 test-model.py\r\n",
      "-rw-r--r-- 1 root root    13530 Jul 26 15:54 train-model.py\r\n",
      "drwxr-xr-x 3 root root     4096 Jul 26 15:54 utils\r\n"
     ]
    }
   ],
   "source": [
    "!ls -la\n"
   ]
  }
 ],
 "metadata": {
  "kaggle": {
   "accelerator": "nvidiaTeslaT4",
   "dataSources": [
    {
     "databundleVersionId": 868324,
     "sourceId": 9988,
     "sourceType": "competition"
    },
    {
     "datasetId": 5450343,
     "sourceId": 9040735,
     "sourceType": "datasetVersion"
    }
   ],
   "dockerImageVersionId": 30747,
   "isGpuEnabled": true,
   "isInternetEnabled": true,
   "language": "python",
   "sourceType": "notebook"
  },
  "kernelspec": {
   "display_name": "Python 3",
   "language": "python",
   "name": "python3"
  },
  "language_info": {
   "codemirror_mode": {
    "name": "ipython",
    "version": 3
   },
   "file_extension": ".py",
   "mimetype": "text/x-python",
   "name": "python",
   "nbconvert_exporter": "python",
   "pygments_lexer": "ipython3",
   "version": "3.10.13"
  },
  "papermill": {
   "default_parameters": {},
   "duration": 32.23961,
   "end_time": "2024-07-26T15:54:23.272583",
   "environment_variables": {},
   "exception": null,
   "input_path": "__notebook__.ipynb",
   "output_path": "__notebook__.ipynb",
   "parameters": {},
   "start_time": "2024-07-26T15:53:51.032973",
   "version": "2.5.0"
  }
 },
 "nbformat": 4,
 "nbformat_minor": 5
}
