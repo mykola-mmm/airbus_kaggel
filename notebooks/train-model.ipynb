{
 "cells": [
  {
   "cell_type": "code",
   "execution_count": 1,
   "id": "58fe9d31",
   "metadata": {
    "_cell_guid": "b1076dfc-b9ad-4769-8c92-a6c4dae69d19",
    "_uuid": "8f2839f25d086af736a60e9eeb907d3b93b6e0e5",
    "execution": {
     "iopub.execute_input": "2024-07-26T15:40:21.846921Z",
     "iopub.status.busy": "2024-07-26T15:40:21.846591Z",
     "iopub.status.idle": "2024-07-26T15:40:27.674925Z",
     "shell.execute_reply": "2024-07-26T15:40:27.673848Z"
    },
    "papermill": {
     "duration": 5.835195,
     "end_time": "2024-07-26T15:40:27.677302",
     "exception": false,
     "start_time": "2024-07-26T15:40:21.842107",
     "status": "completed"
    },
    "tags": []
   },
   "outputs": [
    {
     "name": "stdout",
     "output_type": "stream",
     "text": [
      "Cloning into 'airbus_kaggel'...\r\n",
      "remote: Enumerating objects: 168, done.\u001b[K\r\n",
      "remote: Counting objects: 100% (13/13), done.\u001b[K\r\n",
      "remote: Compressing objects: 100% (11/11), done.\u001b[K\r\n",
      "remote: Total 168 (delta 2), reused 6 (delta 2), pack-reused 155\u001b[K\r\n",
      "Receiving objects: 100% (168/168), 99.98 MiB | 36.23 MiB/s, done.\r\n",
      "Resolving deltas: 100% (71/71), done.\r\n"
     ]
    }
   ],
   "source": [
    "!git clone https://github.com/mykola-mmm/airbus_kaggel.git"
   ]
  },
  {
   "cell_type": "code",
   "execution_count": 2,
   "id": "2499958f",
   "metadata": {
    "execution": {
     "iopub.execute_input": "2024-07-26T15:40:27.687322Z",
     "iopub.status.busy": "2024-07-26T15:40:27.686716Z",
     "iopub.status.idle": "2024-07-26T15:40:27.691097Z",
     "shell.execute_reply": "2024-07-26T15:40:27.690271Z"
    },
    "papermill": {
     "duration": 0.011483,
     "end_time": "2024-07-26T15:40:27.693080",
     "exception": false,
     "start_time": "2024-07-26T15:40:27.681597",
     "status": "completed"
    },
    "tags": []
   },
   "outputs": [],
   "source": [
    "import os\n",
    "os.chdir('./airbus_kaggel')\n"
   ]
  },
  {
   "cell_type": "code",
   "execution_count": 3,
   "id": "b1b93eef",
   "metadata": {
    "execution": {
     "iopub.execute_input": "2024-07-26T15:40:27.702685Z",
     "iopub.status.busy": "2024-07-26T15:40:27.702443Z",
     "iopub.status.idle": "2024-07-26T15:40:29.232881Z",
     "shell.execute_reply": "2024-07-26T15:40:29.231759Z"
    },
    "papermill": {
     "duration": 1.53829,
     "end_time": "2024-07-26T15:40:29.235195",
     "exception": false,
     "start_time": "2024-07-26T15:40:27.696905",
     "status": "completed"
    },
    "tags": []
   },
   "outputs": [
    {
     "name": "stdout",
     "output_type": "stream",
     "text": [
      "Branch 'v2' set up to track remote branch 'v2' from 'origin'.\r\n",
      "Switched to a new branch 'v2'\r\n"
     ]
    }
   ],
   "source": [
    "!git checkout v2"
   ]
  },
  {
   "cell_type": "code",
   "execution_count": 4,
   "id": "859496c8",
   "metadata": {
    "execution": {
     "iopub.execute_input": "2024-07-26T15:40:29.245378Z",
     "iopub.status.busy": "2024-07-26T15:40:29.244592Z",
     "iopub.status.idle": "2024-07-26T15:40:30.264939Z",
     "shell.execute_reply": "2024-07-26T15:40:30.264003Z"
    },
    "papermill": {
     "duration": 1.02775,
     "end_time": "2024-07-26T15:40:30.267106",
     "exception": false,
     "start_time": "2024-07-26T15:40:29.239356",
     "status": "completed"
    },
    "tags": []
   },
   "outputs": [
    {
     "name": "stdout",
     "output_type": "stream",
     "text": [
      "Python 3.10.13\r\n"
     ]
    }
   ],
   "source": [
    "!python --version"
   ]
  },
  {
   "cell_type": "code",
   "execution_count": 5,
   "id": "08345d60",
   "metadata": {
    "execution": {
     "iopub.execute_input": "2024-07-26T15:40:30.276875Z",
     "iopub.status.busy": "2024-07-26T15:40:30.276569Z",
     "iopub.status.idle": "2024-07-26T15:42:51.684805Z",
     "shell.execute_reply": "2024-07-26T15:42:51.683881Z"
    },
    "papermill": {
     "duration": 141.415955,
     "end_time": "2024-07-26T15:42:51.687222",
     "exception": false,
     "start_time": "2024-07-26T15:40:30.271267",
     "status": "completed"
    },
    "tags": []
   },
   "outputs": [
    {
     "name": "stdout",
     "output_type": "stream",
     "text": [
      "2024-07-26 15:40:36.435644: E external/local_xla/xla/stream_executor/cuda/cuda_dnn.cc:9261] Unable to register cuDNN factory: Attempting to register factory for plugin cuDNN when one has already been registered\r\n",
      "2024-07-26 15:40:36.435782: E external/local_xla/xla/stream_executor/cuda/cuda_fft.cc:607] Unable to register cuFFT factory: Attempting to register factory for plugin cuFFT when one has already been registered\r\n",
      "2024-07-26 15:40:36.713841: E external/local_xla/xla/stream_executor/cuda/cuda_blas.cc:1515] Unable to register cuBLAS factory: Attempting to register factory for plugin cuBLAS when one has already been registered\r\n",
      "Number of devices: 2\r\n",
      "The size of the training set: 2441\r\n",
      "The size of the validation set: 611\r\n",
      "Steps/Epoch: 38\r\n",
      "<class 'function'>\r\n",
      "\u001b[1mModel: \"functional\"\u001b[0m\r\n",
      "┏━━━━━━━━━━━━━━━━━━━━━┳━━━━━━━━━━━━━━━━━━━┳━━━━━━━━━━━━┳━━━━━━━━━━━━━━━━━━━┓\r\n",
      "┃\u001b[1m \u001b[0m\u001b[1mLayer (type)       \u001b[0m\u001b[1m \u001b[0m┃\u001b[1m \u001b[0m\u001b[1mOutput Shape     \u001b[0m\u001b[1m \u001b[0m┃\u001b[1m \u001b[0m\u001b[1m   Param #\u001b[0m\u001b[1m \u001b[0m┃\u001b[1m \u001b[0m\u001b[1mConnected to     \u001b[0m\u001b[1m \u001b[0m┃\r\n",
      "┡━━━━━━━━━━━━━━━━━━━━━╇━━━━━━━━━━━━━━━━━━━╇━━━━━━━━━━━━╇━━━━━━━━━━━━━━━━━━━┩\r\n",
      "│ keras_tensor_2CLONE │ (\u001b[96mNone\u001b[0m, \u001b[32m256\u001b[0m, \u001b[32m256\u001b[0m,  │          \u001b[32m0\u001b[0m │ -                 │\r\n",
      "│ (\u001b[94mInputLayer\u001b[0m)        │ \u001b[32m3\u001b[0m)                │            │                   │\r\n",
      "├─────────────────────┼───────────────────┼────────────┼───────────────────┤\r\n",
      "│ conv2d (\u001b[94mConv2D\u001b[0m)     │ (\u001b[96mNone\u001b[0m, \u001b[32m256\u001b[0m, \u001b[32m256\u001b[0m,  │        \u001b[32m448\u001b[0m │ keras_tensor_2CL… │\r\n",
      "│                     │ \u001b[32m16\u001b[0m)               │            │                   │\r\n",
      "├─────────────────────┼───────────────────┼────────────┼───────────────────┤\r\n",
      "│ dropout (\u001b[94mDropout\u001b[0m)   │ (\u001b[96mNone\u001b[0m, \u001b[32m256\u001b[0m, \u001b[32m256\u001b[0m,  │          \u001b[32m0\u001b[0m │ conv2d[\u001b[32m1\u001b[0m][\u001b[32m0\u001b[0m]      │\r\n",
      "│                     │ \u001b[32m16\u001b[0m)               │            │                   │\r\n",
      "├─────────────────────┼───────────────────┼────────────┼───────────────────┤\r\n",
      "│ conv2d_1 (\u001b[94mConv2D\u001b[0m)   │ (\u001b[96mNone\u001b[0m, \u001b[32m256\u001b[0m, \u001b[32m256\u001b[0m,  │      \u001b[32m2,320\u001b[0m │ dropout[\u001b[32m1\u001b[0m][\u001b[32m0\u001b[0m]     │\r\n",
      "│                     │ \u001b[32m16\u001b[0m)               │            │                   │\r\n",
      "├─────────────────────┼───────────────────┼────────────┼───────────────────┤\r\n",
      "│ max_pooling2d       │ (\u001b[96mNone\u001b[0m, \u001b[32m128\u001b[0m, \u001b[32m128\u001b[0m,  │          \u001b[32m0\u001b[0m │ conv2d_1[\u001b[32m1\u001b[0m][\u001b[32m0\u001b[0m]    │\r\n",
      "│ (\u001b[94mMaxPooling2D\u001b[0m)      │ \u001b[32m16\u001b[0m)               │            │                   │\r\n",
      "├─────────────────────┼───────────────────┼────────────┼───────────────────┤\r\n",
      "│ conv2d_2 (\u001b[94mConv2D\u001b[0m)   │ (\u001b[96mNone\u001b[0m, \u001b[32m128\u001b[0m, \u001b[32m128\u001b[0m,  │      \u001b[32m4,640\u001b[0m │ max_pooling2d[\u001b[32m1\u001b[0m]… │\r\n",
      "│                     │ \u001b[32m32\u001b[0m)               │            │                   │\r\n",
      "├─────────────────────┼───────────────────┼────────────┼───────────────────┤\r\n",
      "│ dropout_1 (\u001b[94mDropout\u001b[0m) │ (\u001b[96mNone\u001b[0m, \u001b[32m128\u001b[0m, \u001b[32m128\u001b[0m,  │          \u001b[32m0\u001b[0m │ conv2d_2[\u001b[32m1\u001b[0m][\u001b[32m0\u001b[0m]    │\r\n",
      "│                     │ \u001b[32m32\u001b[0m)               │            │                   │\r\n",
      "├─────────────────────┼───────────────────┼────────────┼───────────────────┤\r\n",
      "│ conv2d_3 (\u001b[94mConv2D\u001b[0m)   │ (\u001b[96mNone\u001b[0m, \u001b[32m128\u001b[0m, \u001b[32m128\u001b[0m,  │      \u001b[32m9,248\u001b[0m │ dropout_1[\u001b[32m1\u001b[0m][\u001b[32m0\u001b[0m]   │\r\n",
      "│                     │ \u001b[32m32\u001b[0m)               │            │                   │\r\n",
      "├─────────────────────┼───────────────────┼────────────┼───────────────────┤\r\n",
      "│ max_pooling2d_1     │ (\u001b[96mNone\u001b[0m, \u001b[32m64\u001b[0m, \u001b[32m64\u001b[0m,    │          \u001b[32m0\u001b[0m │ conv2d_3[\u001b[32m1\u001b[0m][\u001b[32m0\u001b[0m]    │\r\n",
      "│ (\u001b[94mMaxPooling2D\u001b[0m)      │ \u001b[32m32\u001b[0m)               │            │                   │\r\n",
      "├─────────────────────┼───────────────────┼────────────┼───────────────────┤\r\n",
      "│ conv2d_4 (\u001b[94mConv2D\u001b[0m)   │ (\u001b[96mNone\u001b[0m, \u001b[32m64\u001b[0m, \u001b[32m64\u001b[0m,    │     \u001b[32m18,496\u001b[0m │ max_pooling2d_1[\u001b[32m…\u001b[0m │\r\n",
      "│                     │ \u001b[32m64\u001b[0m)               │            │                   │\r\n",
      "├─────────────────────┼───────────────────┼────────────┼───────────────────┤\r\n",
      "│ dropout_2 (\u001b[94mDropout\u001b[0m) │ (\u001b[96mNone\u001b[0m, \u001b[32m64\u001b[0m, \u001b[32m64\u001b[0m,    │          \u001b[32m0\u001b[0m │ conv2d_4[\u001b[32m1\u001b[0m][\u001b[32m0\u001b[0m]    │\r\n",
      "│                     │ \u001b[32m64\u001b[0m)               │            │                   │\r\n",
      "├─────────────────────┼───────────────────┼────────────┼───────────────────┤\r\n",
      "│ conv2d_5 (\u001b[94mConv2D\u001b[0m)   │ (\u001b[96mNone\u001b[0m, \u001b[32m64\u001b[0m, \u001b[32m64\u001b[0m,    │     \u001b[32m36,928\u001b[0m │ dropout_2[\u001b[32m1\u001b[0m][\u001b[32m0\u001b[0m]   │\r\n",
      "│                     │ \u001b[32m64\u001b[0m)               │            │                   │\r\n",
      "├─────────────────────┼───────────────────┼────────────┼───────────────────┤\r\n",
      "│ max_pooling2d_2     │ (\u001b[96mNone\u001b[0m, \u001b[32m32\u001b[0m, \u001b[32m32\u001b[0m,    │          \u001b[32m0\u001b[0m │ conv2d_5[\u001b[32m1\u001b[0m][\u001b[32m0\u001b[0m]    │\r\n",
      "│ (\u001b[94mMaxPooling2D\u001b[0m)      │ \u001b[32m64\u001b[0m)               │            │                   │\r\n",
      "├─────────────────────┼───────────────────┼────────────┼───────────────────┤\r\n",
      "│ conv2d_6 (\u001b[94mConv2D\u001b[0m)   │ (\u001b[96mNone\u001b[0m, \u001b[32m32\u001b[0m, \u001b[32m32\u001b[0m,    │     \u001b[32m73,856\u001b[0m │ max_pooling2d_2[\u001b[32m…\u001b[0m │\r\n",
      "│                     │ \u001b[32m128\u001b[0m)              │            │                   │\r\n",
      "├─────────────────────┼───────────────────┼────────────┼───────────────────┤\r\n",
      "│ dropout_3 (\u001b[94mDropout\u001b[0m) │ (\u001b[96mNone\u001b[0m, \u001b[32m32\u001b[0m, \u001b[32m32\u001b[0m,    │          \u001b[32m0\u001b[0m │ conv2d_6[\u001b[32m1\u001b[0m][\u001b[32m0\u001b[0m]    │\r\n",
      "│                     │ \u001b[32m128\u001b[0m)              │            │                   │\r\n",
      "├─────────────────────┼───────────────────┼────────────┼───────────────────┤\r\n",
      "│ conv2d_7 (\u001b[94mConv2D\u001b[0m)   │ (\u001b[96mNone\u001b[0m, \u001b[32m32\u001b[0m, \u001b[32m32\u001b[0m,    │    \u001b[32m147,584\u001b[0m │ dropout_3[\u001b[32m1\u001b[0m][\u001b[32m0\u001b[0m]   │\r\n",
      "│                     │ \u001b[32m128\u001b[0m)              │            │                   │\r\n",
      "├─────────────────────┼───────────────────┼────────────┼───────────────────┤\r\n",
      "│ max_pooling2d_3     │ (\u001b[96mNone\u001b[0m, \u001b[32m16\u001b[0m, \u001b[32m16\u001b[0m,    │          \u001b[32m0\u001b[0m │ conv2d_7[\u001b[32m1\u001b[0m][\u001b[32m0\u001b[0m]    │\r\n",
      "│ (\u001b[94mMaxPooling2D\u001b[0m)      │ \u001b[32m128\u001b[0m)              │            │                   │\r\n",
      "├─────────────────────┼───────────────────┼────────────┼───────────────────┤\r\n",
      "│ conv2d_8 (\u001b[94mConv2D\u001b[0m)   │ (\u001b[96mNone\u001b[0m, \u001b[32m16\u001b[0m, \u001b[32m16\u001b[0m,    │    \u001b[32m295,168\u001b[0m │ max_pooling2d_3[\u001b[32m…\u001b[0m │\r\n",
      "│                     │ \u001b[32m256\u001b[0m)              │            │                   │\r\n",
      "├─────────────────────┼───────────────────┼────────────┼───────────────────┤\r\n",
      "│ dropout_4 (\u001b[94mDropout\u001b[0m) │ (\u001b[96mNone\u001b[0m, \u001b[32m16\u001b[0m, \u001b[32m16\u001b[0m,    │          \u001b[32m0\u001b[0m │ conv2d_8[\u001b[32m1\u001b[0m][\u001b[32m0\u001b[0m]    │\r\n",
      "│                     │ \u001b[32m256\u001b[0m)              │            │                   │\r\n",
      "├─────────────────────┼───────────────────┼────────────┼───────────────────┤\r\n",
      "│ conv2d_9 (\u001b[94mConv2D\u001b[0m)   │ (\u001b[96mNone\u001b[0m, \u001b[32m16\u001b[0m, \u001b[32m16\u001b[0m,    │    \u001b[32m590,080\u001b[0m │ dropout_4[\u001b[32m1\u001b[0m][\u001b[32m0\u001b[0m]   │\r\n",
      "│                     │ \u001b[32m256\u001b[0m)              │            │                   │\r\n",
      "├─────────────────────┼───────────────────┼────────────┼───────────────────┤\r\n",
      "│ conv2d_transpose    │ (\u001b[96mNone\u001b[0m, \u001b[32m32\u001b[0m, \u001b[32m32\u001b[0m,    │    \u001b[32m131,200\u001b[0m │ conv2d_9[\u001b[32m1\u001b[0m][\u001b[32m0\u001b[0m]    │\r\n",
      "│ (\u001b[94mConv2DTranspose\u001b[0m)   │ \u001b[32m128\u001b[0m)              │            │                   │\r\n",
      "├─────────────────────┼───────────────────┼────────────┼───────────────────┤\r\n",
      "│ concatenate         │ (\u001b[96mNone\u001b[0m, \u001b[32m32\u001b[0m, \u001b[32m32\u001b[0m,    │          \u001b[32m0\u001b[0m │ conv2d_transpose… │\r\n",
      "│ (\u001b[94mConcatenate\u001b[0m)       │ \u001b[32m256\u001b[0m)              │            │ conv2d_7[\u001b[32m1\u001b[0m][\u001b[32m0\u001b[0m]    │\r\n",
      "├─────────────────────┼───────────────────┼────────────┼───────────────────┤\r\n",
      "│ conv2d_10 (\u001b[94mConv2D\u001b[0m)  │ (\u001b[96mNone\u001b[0m, \u001b[32m32\u001b[0m, \u001b[32m32\u001b[0m,    │    \u001b[32m295,040\u001b[0m │ concatenate[\u001b[32m1\u001b[0m][\u001b[32m0\u001b[0m] │\r\n",
      "│                     │ \u001b[32m128\u001b[0m)              │            │                   │\r\n",
      "├─────────────────────┼───────────────────┼────────────┼───────────────────┤\r\n",
      "│ dropout_5 (\u001b[94mDropout\u001b[0m) │ (\u001b[96mNone\u001b[0m, \u001b[32m32\u001b[0m, \u001b[32m32\u001b[0m,    │          \u001b[32m0\u001b[0m │ conv2d_10[\u001b[32m1\u001b[0m][\u001b[32m0\u001b[0m]   │\r\n",
      "│                     │ \u001b[32m128\u001b[0m)              │            │                   │\r\n",
      "├─────────────────────┼───────────────────┼────────────┼───────────────────┤\r\n",
      "│ conv2d_11 (\u001b[94mConv2D\u001b[0m)  │ (\u001b[96mNone\u001b[0m, \u001b[32m32\u001b[0m, \u001b[32m32\u001b[0m,    │    \u001b[32m147,584\u001b[0m │ dropout_5[\u001b[32m1\u001b[0m][\u001b[32m0\u001b[0m]   │\r\n",
      "│                     │ \u001b[32m128\u001b[0m)              │            │                   │\r\n",
      "├─────────────────────┼───────────────────┼────────────┼───────────────────┤\r\n",
      "│ conv2d_transpose_1  │ (\u001b[96mNone\u001b[0m, \u001b[32m64\u001b[0m, \u001b[32m64\u001b[0m,    │     \u001b[32m32,832\u001b[0m │ conv2d_11[\u001b[32m1\u001b[0m][\u001b[32m0\u001b[0m]   │\r\n",
      "│ (\u001b[94mConv2DTranspose\u001b[0m)   │ \u001b[32m64\u001b[0m)               │            │                   │\r\n",
      "├─────────────────────┼───────────────────┼────────────┼───────────────────┤\r\n",
      "│ concatenate_1       │ (\u001b[96mNone\u001b[0m, \u001b[32m64\u001b[0m, \u001b[32m64\u001b[0m,    │          \u001b[32m0\u001b[0m │ conv2d_transpose… │\r\n",
      "│ (\u001b[94mConcatenate\u001b[0m)       │ \u001b[32m128\u001b[0m)              │            │ conv2d_5[\u001b[32m1\u001b[0m][\u001b[32m0\u001b[0m]    │\r\n",
      "├─────────────────────┼───────────────────┼────────────┼───────────────────┤\r\n",
      "│ conv2d_12 (\u001b[94mConv2D\u001b[0m)  │ (\u001b[96mNone\u001b[0m, \u001b[32m64\u001b[0m, \u001b[32m64\u001b[0m,    │     \u001b[32m73,792\u001b[0m │ concatenate_1[\u001b[32m1\u001b[0m]… │\r\n",
      "│                     │ \u001b[32m64\u001b[0m)               │            │                   │\r\n",
      "├─────────────────────┼───────────────────┼────────────┼───────────────────┤\r\n",
      "│ dropout_6 (\u001b[94mDropout\u001b[0m) │ (\u001b[96mNone\u001b[0m, \u001b[32m64\u001b[0m, \u001b[32m64\u001b[0m,    │          \u001b[32m0\u001b[0m │ conv2d_12[\u001b[32m1\u001b[0m][\u001b[32m0\u001b[0m]   │\r\n",
      "│                     │ \u001b[32m64\u001b[0m)               │            │                   │\r\n",
      "├─────────────────────┼───────────────────┼────────────┼───────────────────┤\r\n",
      "│ conv2d_13 (\u001b[94mConv2D\u001b[0m)  │ (\u001b[96mNone\u001b[0m, \u001b[32m64\u001b[0m, \u001b[32m64\u001b[0m,    │     \u001b[32m36,928\u001b[0m │ dropout_6[\u001b[32m1\u001b[0m][\u001b[32m0\u001b[0m]   │\r\n",
      "│                     │ \u001b[32m64\u001b[0m)               │            │                   │\r\n",
      "├─────────────────────┼───────────────────┼────────────┼───────────────────┤\r\n",
      "│ conv2d_transpose_2  │ (\u001b[96mNone\u001b[0m, \u001b[32m128\u001b[0m, \u001b[32m128\u001b[0m,  │      \u001b[32m8,224\u001b[0m │ conv2d_13[\u001b[32m1\u001b[0m][\u001b[32m0\u001b[0m]   │\r\n",
      "│ (\u001b[94mConv2DTranspose\u001b[0m)   │ \u001b[32m32\u001b[0m)               │            │                   │\r\n",
      "├─────────────────────┼───────────────────┼────────────┼───────────────────┤\r\n",
      "│ concatenate_2       │ (\u001b[96mNone\u001b[0m, \u001b[32m128\u001b[0m, \u001b[32m128\u001b[0m,  │          \u001b[32m0\u001b[0m │ conv2d_transpose… │\r\n",
      "│ (\u001b[94mConcatenate\u001b[0m)       │ \u001b[32m64\u001b[0m)               │            │ conv2d_3[\u001b[32m1\u001b[0m][\u001b[32m0\u001b[0m]    │\r\n",
      "├─────────────────────┼───────────────────┼────────────┼───────────────────┤\r\n",
      "│ conv2d_14 (\u001b[94mConv2D\u001b[0m)  │ (\u001b[96mNone\u001b[0m, \u001b[32m128\u001b[0m, \u001b[32m128\u001b[0m,  │     \u001b[32m18,464\u001b[0m │ concatenate_2[\u001b[32m1\u001b[0m]… │\r\n",
      "│                     │ \u001b[32m32\u001b[0m)               │            │                   │\r\n",
      "├─────────────────────┼───────────────────┼────────────┼───────────────────┤\r\n",
      "│ dropout_7 (\u001b[94mDropout\u001b[0m) │ (\u001b[96mNone\u001b[0m, \u001b[32m128\u001b[0m, \u001b[32m128\u001b[0m,  │          \u001b[32m0\u001b[0m │ conv2d_14[\u001b[32m1\u001b[0m][\u001b[32m0\u001b[0m]   │\r\n",
      "│                     │ \u001b[32m32\u001b[0m)               │            │                   │\r\n",
      "├─────────────────────┼───────────────────┼────────────┼───────────────────┤\r\n",
      "│ conv2d_15 (\u001b[94mConv2D\u001b[0m)  │ (\u001b[96mNone\u001b[0m, \u001b[32m128\u001b[0m, \u001b[32m128\u001b[0m,  │      \u001b[32m9,248\u001b[0m │ dropout_7[\u001b[32m1\u001b[0m][\u001b[32m0\u001b[0m]   │\r\n",
      "│                     │ \u001b[32m32\u001b[0m)               │            │                   │\r\n",
      "├─────────────────────┼───────────────────┼────────────┼───────────────────┤\r\n",
      "│ conv2d_transpose_3  │ (\u001b[96mNone\u001b[0m, \u001b[32m256\u001b[0m, \u001b[32m256\u001b[0m,  │      \u001b[32m2,064\u001b[0m │ conv2d_15[\u001b[32m1\u001b[0m][\u001b[32m0\u001b[0m]   │\r\n",
      "│ (\u001b[94mConv2DTranspose\u001b[0m)   │ \u001b[32m16\u001b[0m)               │            │                   │\r\n",
      "├─────────────────────┼───────────────────┼────────────┼───────────────────┤\r\n",
      "│ concatenate_3       │ (\u001b[96mNone\u001b[0m, \u001b[32m256\u001b[0m, \u001b[32m256\u001b[0m,  │          \u001b[32m0\u001b[0m │ conv2d_transpose… │\r\n",
      "│ (\u001b[94mConcatenate\u001b[0m)       │ \u001b[32m32\u001b[0m)               │            │ conv2d_1[\u001b[32m1\u001b[0m][\u001b[32m0\u001b[0m]    │\r\n",
      "├─────────────────────┼───────────────────┼────────────┼───────────────────┤\r\n",
      "│ conv2d_16 (\u001b[94mConv2D\u001b[0m)  │ (\u001b[96mNone\u001b[0m, \u001b[32m256\u001b[0m, \u001b[32m256\u001b[0m,  │      \u001b[32m4,624\u001b[0m │ concatenate_3[\u001b[32m1\u001b[0m]… │\r\n",
      "│                     │ \u001b[32m16\u001b[0m)               │            │                   │\r\n",
      "├─────────────────────┼───────────────────┼────────────┼───────────────────┤\r\n",
      "│ dropout_8 (\u001b[94mDropout\u001b[0m) │ (\u001b[96mNone\u001b[0m, \u001b[32m256\u001b[0m, \u001b[32m256\u001b[0m,  │          \u001b[32m0\u001b[0m │ conv2d_16[\u001b[32m1\u001b[0m][\u001b[32m0\u001b[0m]   │\r\n",
      "│                     │ \u001b[32m16\u001b[0m)               │            │                   │\r\n",
      "├─────────────────────┼───────────────────┼────────────┼───────────────────┤\r\n",
      "│ conv2d_17 (\u001b[94mConv2D\u001b[0m)  │ (\u001b[96mNone\u001b[0m, \u001b[32m256\u001b[0m, \u001b[32m256\u001b[0m,  │      \u001b[32m2,320\u001b[0m │ dropout_8[\u001b[32m1\u001b[0m][\u001b[32m0\u001b[0m]   │\r\n",
      "│                     │ \u001b[32m16\u001b[0m)               │            │                   │\r\n",
      "├─────────────────────┼───────────────────┼────────────┼───────────────────┤\r\n",
      "│ conv2d_18 (\u001b[94mConv2D\u001b[0m)  │ (\u001b[96mNone\u001b[0m, \u001b[32m256\u001b[0m, \u001b[32m256\u001b[0m,  │         \u001b[32m17\u001b[0m │ conv2d_17[\u001b[32m1\u001b[0m][\u001b[32m0\u001b[0m]   │\r\n",
      "│                     │ \u001b[32m1\u001b[0m)                │            │                   │\r\n",
      "└─────────────────────┴───────────────────┴────────────┴───────────────────┘\r\n",
      "\u001b[1m Total params: \u001b[0m\u001b[32m1,941,105\u001b[0m (7.40 MB)\r\n",
      "\u001b[1m Trainable params: \u001b[0m\u001b[32m1,941,105\u001b[0m (7.40 MB)\r\n",
      "\u001b[1m Non-trainable params: \u001b[0m\u001b[32m0\u001b[0m (0.00 B)\r\n",
      "Epoch 1/100\r\n",
      "Traceback (most recent call last):\r\n",
      "  File \"/kaggle/working/airbus_kaggel/./train-model.py\", line 196, in <module>\r\n",
      "    loss_history = [model.fit(model_fit_gen,\r\n",
      "  File \"/opt/conda/lib/python3.10/site-packages/keras/src/utils/traceback_utils.py\", line 122, in error_handler\r\n",
      "    raise e.with_traceback(filtered_tb) from None\r\n",
      "  File \"/tmp/__autograph_generated_fileo6lr_oa7.py\", line 14, in tf__wrapped_fn\r\n",
      "    retval_ = ag__.converted_call(ag__.ld(call_for_each_replica), (ag__.ld(strategy), ag__.ld(fn).python_function, ag__.ld(args), ag__.ld(kwargs)), None, fscope)\r\n",
      "RuntimeError: in user code:\r\n",
      "\r\n",
      "    File \"/opt/conda/lib/python3.10/site-packages/keras/src/backend/tensorflow/trainer.py\", line 108, in one_step_on_data  **\r\n",
      "        return self.train_step(data)\r\n",
      "    File \"/opt/conda/lib/python3.10/site-packages/keras/src/backend/tensorflow/trainer.py\", line 73, in train_step\r\n",
      "        self.optimizer.apply_gradients(zip(gradients, trainable_weights))\r\n",
      "    File \"/opt/conda/lib/python3.10/site-packages/keras/src/optimizers/base_optimizer.py\", line 282, in apply_gradients\r\n",
      "        self.apply(grads, trainable_variables)\r\n",
      "    File \"/opt/conda/lib/python3.10/site-packages/keras/src/optimizers/base_optimizer.py\", line 321, in apply\r\n",
      "        self.build(trainable_variables)\r\n",
      "    File \"/opt/conda/lib/python3.10/site-packages/keras/src/optimizers/adam.py\", line 97, in build\r\n",
      "        self.add_variable_from_reference(\r\n",
      "    File \"/opt/conda/lib/python3.10/site-packages/keras/src/backend/tensorflow/optimizer.py\", line 33, in add_variable_from_reference\r\n",
      "        with self._distribution_strategy.extended.colocate_vars_with(\r\n",
      "\r\n",
      "    RuntimeError: Mixing different tf.distribute.Strategy objects: <tensorflow.python.distribute.mirrored_strategy.MirroredStrategy object at 0x7954b43735b0> is not <tensorflow.python.distribute.distribute_lib._DefaultDistributionStrategy object at 0x7954c0b5bf70>\r\n",
      "\r\n"
     ]
    }
   ],
   "source": [
    "!python ./train-model.py --csv_file /kaggle/input/airbus-kaggle-preprocessed/df.csv --dataset_path /kaggle/input/airbus-ship-detection/train_v2 --max_number_of_samples 5000 --epochs 100 --batch_size 64 --loss_function dice_bce_loss --patch_size 256"
   ]
  },
  {
   "cell_type": "code",
   "execution_count": 6,
   "id": "84497c11",
   "metadata": {
    "execution": {
     "iopub.execute_input": "2024-07-26T15:42:51.699064Z",
     "iopub.status.busy": "2024-07-26T15:42:51.698741Z",
     "iopub.status.idle": "2024-07-26T15:42:52.688808Z",
     "shell.execute_reply": "2024-07-26T15:42:52.687794Z"
    },
    "papermill": {
     "duration": 0.998507,
     "end_time": "2024-07-26T15:42:52.691118",
     "exception": false,
     "start_time": "2024-07-26T15:42:51.692611",
     "status": "completed"
    },
    "tags": []
   },
   "outputs": [
    {
     "name": "stdout",
     "output_type": "stream",
     "text": [
      "total 49596\r\n",
      "drwxr-xr-x 7 root root     4096 Jul 26 15:42 .\r\n",
      "drwxr-xr-x 3 root root     4096 Jul 26 15:40 ..\r\n",
      "drwxr-xr-x 8 root root     4096 Jul 26 15:40 .git\r\n",
      "-rw-r--r-- 1 root root       43 Jul 26 15:40 .gitignore\r\n",
      "-rw-r--r-- 1 root root     5040 Jul 26 15:40 README.md\r\n",
      "-rw-r--r-- 1 root root 50719787 Jul 26 15:40 df.csv\r\n",
      "drwxr-xr-x 3 root root     4096 Jul 26 15:42 logs\r\n",
      "drwxr-xr-x 2 root root     4096 Jul 26 15:42 models\r\n",
      "drwxr-xr-x 2 root root     4096 Jul 26 15:40 notebooks\r\n",
      "-rw-r--r-- 1 root root      128 Jul 26 15:40 requirements.txt\r\n",
      "-rw-r--r-- 1 root root     2878 Jul 26 15:40 test-model.py\r\n",
      "-rw-r--r-- 1 root root    13249 Jul 26 15:40 train-model.py\r\n",
      "drwxr-xr-x 3 root root     4096 Jul 26 15:40 utils\r\n"
     ]
    }
   ],
   "source": [
    "!ls -la\n"
   ]
  },
  {
   "cell_type": "code",
   "execution_count": null,
   "id": "b85c0a92",
   "metadata": {
    "papermill": {
     "duration": 0.004971,
     "end_time": "2024-07-26T15:42:52.701591",
     "exception": false,
     "start_time": "2024-07-26T15:42:52.696620",
     "status": "completed"
    },
    "tags": []
   },
   "outputs": [],
   "source": []
  }
 ],
 "metadata": {
  "kaggle": {
   "accelerator": "nvidiaTeslaT4",
   "dataSources": [
    {
     "databundleVersionId": 868324,
     "sourceId": 9988,
     "sourceType": "competition"
    },
    {
     "datasetId": 5450343,
     "sourceId": 9040735,
     "sourceType": "datasetVersion"
    }
   ],
   "dockerImageVersionId": 30747,
   "isGpuEnabled": true,
   "isInternetEnabled": true,
   "language": "python",
   "sourceType": "notebook"
  },
  "kernelspec": {
   "display_name": "Python 3",
   "language": "python",
   "name": "python3"
  },
  "language_info": {
   "codemirror_mode": {
    "name": "ipython",
    "version": 3
   },
   "file_extension": ".py",
   "mimetype": "text/x-python",
   "name": "python",
   "nbconvert_exporter": "python",
   "pygments_lexer": "ipython3",
   "version": "3.10.13"
  },
  "papermill": {
   "default_parameters": {},
   "duration": 155.128658,
   "end_time": "2024-07-26T15:42:52.926141",
   "environment_variables": {},
   "exception": null,
   "input_path": "__notebook__.ipynb",
   "output_path": "__notebook__.ipynb",
   "parameters": {},
   "start_time": "2024-07-26T15:40:17.797483",
   "version": "2.5.0"
  }
 },
 "nbformat": 4,
 "nbformat_minor": 5
}
